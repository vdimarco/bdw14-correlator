{
 "metadata": {
  "name": ""
 },
 "nbformat": 3,
 "nbformat_minor": 0,
 "worksheets": [
  {
   "cells": [
    {
     "cell_type": "code",
     "collapsed": false,
     "input": [
      "import numpy as np\n",
      "import pandas as pd\n",
      "import csv\n",
      "from numpy.lib.recfunctions import append_fields"
     ],
     "language": "python",
     "metadata": {},
     "outputs": [],
     "prompt_number": 5
    },
    {
     "cell_type": "code",
     "collapsed": false,
     "input": [
      "## Import Data\n",
      "\n",
      "d = np.genfromtxt('data/USGOVT.csv', delimiter=',', skip_header=1, dtype=[('date', 'S10'), ('val', 'f8')]) \n",
      "d = d[d['date']>'2004-01-00']\n",
      "\n",
      "### TODO: Load using Pandas\n",
      "\n",
      "d1 = pd.read_csv('data/USGOVT.csv')\n",
      "print d1"
     ],
     "language": "python",
     "metadata": {},
     "outputs": [
      {
       "output_type": "stream",
       "stream": "stdout",
       "text": [
        "<class 'pandas.core.frame.DataFrame'>\n",
        "Int64Index: 903 entries, 0 to 902\n",
        "Data columns (total 2 columns):\n",
        "Date     903  non-null values\n",
        "Value    903  non-null values\n",
        "dtypes: float64(1), object(1)\n"
       ]
      }
     ],
     "prompt_number": 15
    },
    {
     "cell_type": "code",
     "collapsed": false,
     "input": [
      "## Compute z-score\n",
      "\n",
      "mean = np.mean(d['val'])\n",
      "std = np.std(d['val'])\n",
      "zscore = (d['val']-mean)/std\n",
      "\n",
      "d = append_fields(d, 'z', data=zscore)\n",
      "d = d.data\n"
     ],
     "language": "python",
     "metadata": {},
     "outputs": [],
     "prompt_number": 11
    },
    {
     "cell_type": "code",
     "collapsed": false,
     "input": [],
     "language": "python",
     "metadata": {},
     "outputs": []
    }
   ],
   "metadata": {}
  }
 ]
}