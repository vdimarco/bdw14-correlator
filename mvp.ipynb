{
 "metadata": {
  "name": ""
 },
 "nbformat": 3,
 "nbformat_minor": 0,
 "worksheets": [
  {
   "cells": [
    {
     "cell_type": "code",
     "collapsed": false,
     "input": [
      "import numpy as np\n",
      "import pandas as pd\n",
      "import csv\n",
      "from numpy.lib.recfunctions import append_fields"
     ],
     "language": "python",
     "metadata": {},
     "outputs": [],
     "prompt_number": 5
    },
    {
     "cell_type": "code",
     "collapsed": false,
     "input": [
      "## Import Data\n",
      "\n",
      "d = np.genfromtxt('data/USGOVT.csv', delimiter=',', skip_header=1, dtype=[('date', 'S10'), ('val', 'f8')]) \n",
      "d = d[d['date']>'2004-01-00']\n",
      "\n",
      "### TODO: Load using Pandas\n",
      "\n",
      "d1 = pd.read_csv('data/USGOVT.csv')\n",
      "d2 = pd.read_csv('data/ASPNHSUS.csv')\n",
      "\n",
      "d2.head(10)"
     ],
     "language": "python",
     "metadata": {},
     "outputs": [
      {
       "html": [
        "<div style=\"max-height:1000px;max-width:1500px;overflow:auto;\">\n",
        "<table border=\"1\" class=\"dataframe\">\n",
        "  <thead>\n",
        "    <tr style=\"text-align: right;\">\n",
        "      <th></th>\n",
        "      <th>Date</th>\n",
        "      <th>Value</th>\n",
        "    </tr>\n",
        "  </thead>\n",
        "  <tbody>\n",
        "    <tr>\n",
        "      <th>0</th>\n",
        "      <td> 2014-03-01</td>\n",
        "      <td> 334200</td>\n",
        "    </tr>\n",
        "    <tr>\n",
        "      <th>1</th>\n",
        "      <td> 2014-02-01</td>\n",
        "      <td> 318900</td>\n",
        "    </tr>\n",
        "    <tr>\n",
        "      <th>2</th>\n",
        "      <td> 2014-01-01</td>\n",
        "      <td> 330000</td>\n",
        "    </tr>\n",
        "    <tr>\n",
        "      <th>3</th>\n",
        "      <td> 2013-12-01</td>\n",
        "      <td> 321200</td>\n",
        "    </tr>\n",
        "    <tr>\n",
        "      <th>4</th>\n",
        "      <td> 2013-11-01</td>\n",
        "      <td> 335600</td>\n",
        "    </tr>\n",
        "    <tr>\n",
        "      <th>5</th>\n",
        "      <td> 2013-10-01</td>\n",
        "      <td> 335700</td>\n",
        "    </tr>\n",
        "    <tr>\n",
        "      <th>6</th>\n",
        "      <td> 2013-09-01</td>\n",
        "      <td> 321400</td>\n",
        "    </tr>\n",
        "    <tr>\n",
        "      <th>7</th>\n",
        "      <td> 2013-08-01</td>\n",
        "      <td> 310800</td>\n",
        "    </tr>\n",
        "    <tr>\n",
        "      <th>8</th>\n",
        "      <td> 2013-07-01</td>\n",
        "      <td> 329900</td>\n",
        "    </tr>\n",
        "    <tr>\n",
        "      <th>9</th>\n",
        "      <td> 2013-06-01</td>\n",
        "      <td> 306100</td>\n",
        "    </tr>\n",
        "  </tbody>\n",
        "</table>\n",
        "</div>"
       ],
       "metadata": {},
       "output_type": "pyout",
       "prompt_number": 27,
       "text": [
        "         Date   Value\n",
        "0  2014-03-01  334200\n",
        "1  2014-02-01  318900\n",
        "2  2014-01-01  330000\n",
        "3  2013-12-01  321200\n",
        "4  2013-11-01  335600\n",
        "5  2013-10-01  335700\n",
        "6  2013-09-01  321400\n",
        "7  2013-08-01  310800\n",
        "8  2013-07-01  329900\n",
        "9  2013-06-01  306100"
       ]
      }
     ],
     "prompt_number": 27
    },
    {
     "cell_type": "code",
     "collapsed": false,
     "input": [
      "## Compute z-score\n",
      "\n",
      "mean = np.mean(d['val'])\n",
      "std = np.std(d['val'])\n",
      "zscore = (d['val']-mean)/std\n",
      "\n",
      "d = append_fields(d, 'z', data=zscore)\n",
      "d = d.data"
     ],
     "language": "python",
     "metadata": {},
     "outputs": [],
     "prompt_number": 26
    },
    {
     "cell_type": "code",
     "collapsed": false,
     "input": [
      "# core pandas correlate function\n",
      "# output (default) is the pearson coeffitient\n",
      "\n",
      "d1['Value'].corr(d2['Value'])"
     ],
     "language": "python",
     "metadata": {},
     "outputs": [
      {
       "metadata": {},
       "output_type": "pyout",
       "prompt_number": 28,
       "text": [
        "0.96545450198224558"
       ]
      }
     ],
     "prompt_number": 28
    },
    {
     "cell_type": "code",
     "collapsed": false,
     "input": [],
     "language": "python",
     "metadata": {},
     "outputs": []
    }
   ],
   "metadata": {}
  }
 ]
}